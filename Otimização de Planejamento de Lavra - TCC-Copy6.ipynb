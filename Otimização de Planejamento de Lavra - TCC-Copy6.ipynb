{
 "cells": [
  {
   "cell_type": "markdown",
   "metadata": {},
   "source": [
    "# Otimização de Lavra Mineral através do Sequenciamento Direto de Blocos.\n",
    "Por: Thalles Morais"
   ]
  },
  {
   "cell_type": "markdown",
   "metadata": {},
   "source": [
    "Este notebook tem a intenção de propor um ambiente didático, onde seja possível o acesso a alguns dos algoritmos utilizados em softwares de planejamento de lavra, de forma a contribuir com o entendimento dos mesmos. Os dados usados como input neste notebook referem-se a uma jazida modela em blocos e estão em uma tabela de 500 linhas onde cada linha possui informações de um bloco. \n",
    "\n",
    "O objetivo deste notebook é criar um algoritmo que retorne a sequência de blocos a serem extraídos por período que apresente maior lucro, considerando restrições de capacidade de mina, capacidade de usina e precedência de blocos. As restrições de capacidade de lavra e usina estão relacionadas à tonelagem de massa que podem ser extraídas e processadas em um ano e a restrição de precedência de bloco diz respeito a quais blocos devem ser extraídos para que outro também seja (considerando que alguns blocos estão posicionados acima de outros).\n",
    "\n",
    "A célula abaixo importa as bibliotecas necessárias para realização deste trabalho."
   ]
  },
  {
   "cell_type": "code",
   "execution_count": 1,
   "metadata": {},
   "outputs": [
    {
     "name": "stdout",
     "output_type": "stream",
     "text": [
      "Requirement already satisfied: numpy in c:\\users\\thall\\appdata\\local\\programs\\python\\python38\\lib\\site-packages (1.19.5)\n"
     ]
    },
    {
     "name": "stderr",
     "output_type": "stream",
     "text": [
      "WARNING: You are using pip version 21.0.1; however, version 22.1.2 is available.\n",
      "You should consider upgrading via the 'c:\\users\\thall\\appdata\\local\\programs\\python\\python38\\python.exe -m pip install --upgrade pip' command.\n"
     ]
    },
    {
     "name": "stdout",
     "output_type": "stream",
     "text": [
      "Requirement already satisfied: pandas in c:\\users\\thall\\appdata\\local\\programs\\python\\python38\\lib\\site-packages (1.0.4)\n",
      "Requirement already satisfied: numpy>=1.13.3 in c:\\users\\thall\\appdata\\local\\programs\\python\\python38\\lib\\site-packages (from pandas) (1.19.5)\n",
      "Requirement already satisfied: pytz>=2017.2 in c:\\users\\thall\\appdata\\local\\programs\\python\\python38\\lib\\site-packages (from pandas) (2020.1)\n",
      "Requirement already satisfied: python-dateutil>=2.6.1 in c:\\users\\thall\\appdata\\local\\programs\\python\\python38\\lib\\site-packages (from pandas) (2.8.1)\n",
      "Requirement already satisfied: six>=1.5 in c:\\users\\thall\\appdata\\local\\programs\\python\\python38\\lib\\site-packages (from python-dateutil>=2.6.1->pandas) (1.14.0)\n"
     ]
    },
    {
     "name": "stderr",
     "output_type": "stream",
     "text": [
      "WARNING: You are using pip version 21.0.1; however, version 22.1.2 is available.\n",
      "You should consider upgrading via the 'c:\\users\\thall\\appdata\\local\\programs\\python\\python38\\python.exe -m pip install --upgrade pip' command.\n"
     ]
    },
    {
     "name": "stdout",
     "output_type": "stream",
     "text": [
      "Requirement already satisfied: gurobipy in c:\\users\\thall\\appdata\\local\\programs\\python\\python38\\lib\\site-packages (9.1.1)\n"
     ]
    },
    {
     "name": "stderr",
     "output_type": "stream",
     "text": [
      "WARNING: You are using pip version 21.0.1; however, version 22.1.2 is available.\n",
      "You should consider upgrading via the 'c:\\users\\thall\\appdata\\local\\programs\\python\\python38\\python.exe -m pip install --upgrade pip' command.\n",
      "WARNING: You are using pip version 21.0.1; however, version 22.1.2 is available.\n",
      "You should consider upgrading via the 'c:\\users\\thall\\appdata\\local\\programs\\python\\python38\\python.exe -m pip install --upgrade pip' command.\n"
     ]
    },
    {
     "name": "stdout",
     "output_type": "stream",
     "text": [
      "Requirement already satisfied: miningpy in c:\\users\\thall\\appdata\\local\\programs\\python\\python38\\lib\\site-packages (0.2.0)\n",
      "Requirement already satisfied: vtk>=8.0 in c:\\users\\thall\\appdata\\local\\programs\\python\\python38\\lib\\site-packages (from miningpy) (9.0.1)\n",
      "Requirement already satisfied: pyvista in c:\\users\\thall\\appdata\\local\\programs\\python\\python38\\lib\\site-packages (from miningpy) (0.25.3)\n",
      "Requirement already satisfied: numpy in c:\\users\\thall\\appdata\\local\\programs\\python\\python38\\lib\\site-packages (from miningpy) (1.19.5)\n",
      "Requirement already satisfied: ezdxf>=0.13.1 in c:\\users\\thall\\appdata\\local\\programs\\python\\python38\\lib\\site-packages (from miningpy) (0.13.1)\n",
      "Requirement already satisfied: pandas in c:\\users\\thall\\appdata\\local\\programs\\python\\python38\\lib\\site-packages (from miningpy) (1.0.4)\n",
      "Requirement already satisfied: matplotlib in c:\\users\\thall\\appdata\\local\\programs\\python\\python38\\lib\\site-packages (from miningpy) (3.2.1)\n",
      "Requirement already satisfied: pyparsing>=2.0.1 in c:\\users\\thall\\appdata\\local\\programs\\python\\python38\\lib\\site-packages (from ezdxf>=0.13.1->miningpy) (2.4.7)\n",
      "Requirement already satisfied: kiwisolver>=1.0.1 in c:\\users\\thall\\appdata\\local\\programs\\python\\python38\\lib\\site-packages (from matplotlib->miningpy) (1.2.0)\n",
      "Requirement already satisfied: python-dateutil>=2.1 in c:\\users\\thall\\appdata\\local\\programs\\python\\python38\\lib\\site-packages (from matplotlib->miningpy) (2.8.1)\n",
      "Requirement already satisfied: cycler>=0.10 in c:\\users\\thall\\appdata\\local\\programs\\python\\python38\\lib\\site-packages (from matplotlib->miningpy) (0.10.0)\n",
      "Requirement already satisfied: six in c:\\users\\thall\\appdata\\local\\programs\\python\\python38\\lib\\site-packages (from cycler>=0.10->matplotlib->miningpy) (1.14.0)\n",
      "Requirement already satisfied: pytz>=2017.2 in c:\\users\\thall\\appdata\\local\\programs\\python\\python38\\lib\\site-packages (from pandas->miningpy) (2020.1)\n",
      "Requirement already satisfied: appdirs in c:\\users\\thall\\appdata\\local\\programs\\python\\python38\\lib\\site-packages (from pyvista->miningpy) (1.4.4)\n",
      "Requirement already satisfied: meshio<5.0,>=4.0.3 in c:\\users\\thall\\appdata\\local\\programs\\python\\python38\\lib\\site-packages (from pyvista->miningpy) (4.1.1)\n",
      "Requirement already satisfied: imageio in c:\\users\\thall\\appdata\\local\\programs\\python\\python38\\lib\\site-packages (from pyvista->miningpy) (2.9.0)\n",
      "Requirement already satisfied: scooby>=0.5.1 in c:\\users\\thall\\appdata\\local\\programs\\python\\python38\\lib\\site-packages (from pyvista->miningpy) (0.5.6)\n",
      "Requirement already satisfied: pillow in c:\\users\\thall\\appdata\\local\\programs\\python\\python38\\lib\\site-packages (from imageio->pyvista->miningpy) (7.1.2)\n"
     ]
    }
   ],
   "source": [
    "!pip install numpy\n",
    "!pip install pandas\n",
    "!pip install gurobipy\n",
    "!pip install miningpy\n",
    "\n",
    "import numpy as np\n",
    "import pandas as pd\n",
    "import gurobipy as gp\n",
    "from gurobipy import GRB\n",
    "import miningpy"
   ]
  },
  {
   "cell_type": "markdown",
   "metadata": {},
   "source": [
    "As colunas da tabela usada neste notebook referem-se às informações que cada bloco possui como massa, teor, densidade, ângulo de extração e suas coordenadas no espaço. Essas informações são fundamentais para determinar se um bloco deve ou não ser extraído e, caso seja, se ele deve ser destinado à usina ou para a pilha de estéril.\n",
    "\n",
    "Abaixo podemos visualizar o banco de dados utilizando sendo importado e utilizado para criar um dataframe com as informações do mesmo."
   ]
  },
  {
   "cell_type": "code",
   "execution_count": 2,
   "metadata": {},
   "outputs": [
    {
     "data": {
      "text/html": [
       "<div>\n",
       "<style scoped>\n",
       "    .dataframe tbody tr th:only-of-type {\n",
       "        vertical-align: middle;\n",
       "    }\n",
       "\n",
       "    .dataframe tbody tr th {\n",
       "        vertical-align: top;\n",
       "    }\n",
       "\n",
       "    .dataframe thead th {\n",
       "        text-align: right;\n",
       "    }\n",
       "</style>\n",
       "<table border=\"1\" class=\"dataframe\">\n",
       "  <thead>\n",
       "    <tr style=\"text-align: right;\">\n",
       "      <th></th>\n",
       "      <th>ID</th>\n",
       "      <th>IX</th>\n",
       "      <th>IY</th>\n",
       "      <th>IZ</th>\n",
       "      <th>Teor</th>\n",
       "      <th>Densidade</th>\n",
       "      <th>Angulo</th>\n",
       "      <th>Massa</th>\n",
       "      <th>Usina</th>\n",
       "      <th>Pilha</th>\n",
       "    </tr>\n",
       "    <tr>\n",
       "      <th>index</th>\n",
       "      <th></th>\n",
       "      <th></th>\n",
       "      <th></th>\n",
       "      <th></th>\n",
       "      <th></th>\n",
       "      <th></th>\n",
       "      <th></th>\n",
       "      <th></th>\n",
       "      <th></th>\n",
       "      <th></th>\n",
       "    </tr>\n",
       "  </thead>\n",
       "  <tbody>\n",
       "    <tr>\n",
       "      <th>1</th>\n",
       "      <td>1</td>\n",
       "      <td>1</td>\n",
       "      <td>1</td>\n",
       "      <td>1</td>\n",
       "      <td>0.0</td>\n",
       "      <td>2.85</td>\n",
       "      <td>45</td>\n",
       "      <td>2850</td>\n",
       "      <td>-14250.0</td>\n",
       "      <td>-2850</td>\n",
       "    </tr>\n",
       "    <tr>\n",
       "      <th>2</th>\n",
       "      <td>2</td>\n",
       "      <td>2</td>\n",
       "      <td>1</td>\n",
       "      <td>1</td>\n",
       "      <td>0.0</td>\n",
       "      <td>2.85</td>\n",
       "      <td>45</td>\n",
       "      <td>2850</td>\n",
       "      <td>-14250.0</td>\n",
       "      <td>-2850</td>\n",
       "    </tr>\n",
       "    <tr>\n",
       "      <th>3</th>\n",
       "      <td>3</td>\n",
       "      <td>3</td>\n",
       "      <td>1</td>\n",
       "      <td>1</td>\n",
       "      <td>0.0</td>\n",
       "      <td>2.85</td>\n",
       "      <td>45</td>\n",
       "      <td>2850</td>\n",
       "      <td>-14250.0</td>\n",
       "      <td>-2850</td>\n",
       "    </tr>\n",
       "    <tr>\n",
       "      <th>4</th>\n",
       "      <td>4</td>\n",
       "      <td>4</td>\n",
       "      <td>1</td>\n",
       "      <td>1</td>\n",
       "      <td>0.0</td>\n",
       "      <td>2.85</td>\n",
       "      <td>45</td>\n",
       "      <td>2850</td>\n",
       "      <td>-14250.0</td>\n",
       "      <td>-2850</td>\n",
       "    </tr>\n",
       "    <tr>\n",
       "      <th>5</th>\n",
       "      <td>5</td>\n",
       "      <td>5</td>\n",
       "      <td>1</td>\n",
       "      <td>1</td>\n",
       "      <td>0.0</td>\n",
       "      <td>2.85</td>\n",
       "      <td>45</td>\n",
       "      <td>2850</td>\n",
       "      <td>-14250.0</td>\n",
       "      <td>-2850</td>\n",
       "    </tr>\n",
       "  </tbody>\n",
       "</table>\n",
       "</div>"
      ],
      "text/plain": [
       "       ID  IX  IY  IZ  Teor  Densidade  Angulo  Massa    Usina  Pilha\n",
       "index                                                                \n",
       "1       1   1   1   1   0.0       2.85      45   2850 -14250.0  -2850\n",
       "2       2   2   1   1   0.0       2.85      45   2850 -14250.0  -2850\n",
       "3       3   3   1   1   0.0       2.85      45   2850 -14250.0  -2850\n",
       "4       4   4   1   1   0.0       2.85      45   2850 -14250.0  -2850\n",
       "5       5   5   1   1   0.0       2.85      45   2850 -14250.0  -2850"
      ]
     },
     "execution_count": 2,
     "metadata": {},
     "output_type": "execute_result"
    }
   ],
   "source": [
    "df = pd.read_csv('./dataset.csv')\n",
    "df = df[['ID', 'IX', 'IY', 'IZ', 'Teor', 'Densidade', 'Angulo', 'Massa', 'Usina', 'Pilha']]\n",
    "ID = list(df['ID'].values)\n",
    "i = list(df['IX'].values)\n",
    "j = list(df['IY'].values)\n",
    "k = list(df['IZ'].values)\n",
    "Massa = list(df['Massa'].values)\n",
    "Teor = list(df['Teor'].values)\n",
    "Usina = list(df['Usina'].values)\n",
    "Pilha = list(df['Pilha'].values)\n",
    "index = ID\n",
    "df['index'] = index\n",
    "df.set_index('index', inplace = True)\n",
    "\n",
    "comprimento = len(set(i))\n",
    "largura = len(set(j))\n",
    "altura = len(set(k))\n",
    "area = int(comprimento*largura)\n",
    "volume = int(comprimento*largura*altura)\n",
    "\n",
    "df.head()"
   ]
  },
  {
   "cell_type": "markdown",
   "metadata": {},
   "source": [
    "A célula abaixo cria duas listas: Massa_Processada e valor_bloco. Se um bloco apresenta maior valor na coluna Usina, sua massa é adicionada na lista Massa_Processada e seu valor de usina é acrescido na lista valor_bloco, caso contrário, será adicionado o valor de 0 para este bloco na lista Massa_Processada e seu valor de pilha é acrescido na lista valor_bloco. Após isso, as colunas Massa Processada e Valor do bloco são adicionadas ao dataframe com os valores contidos nas listas Massa_Processada e valor_bloco.\n",
    "\n",
    "Em seguida são criados três dicionários: dici_massa, dici_min e dici_valor. Estes três dicionários relacionam a identidade de cada bloco com seus valores nas colunas Massa, Massa Processada e Valor do bloco."
   ]
  },
  {
   "cell_type": "code",
   "execution_count": 3,
   "metadata": {},
   "outputs": [],
   "source": [
    "Massa_Processada = []\n",
    "valor_bloco = []\n",
    "for n in range(volume):\n",
    "    if Usina[n] > Pilha[n]:\n",
    "        Massa_Processada.append(Massa[n])\n",
    "        valor_bloco.append(Usina[n])\n",
    "    else:\n",
    "        Massa_Processada.append(0)\n",
    "        valor_bloco.append(Pilha[n])\n",
    "        \n",
    "df['Massa Processada'] = Massa_Processada\n",
    "df['Valor do bloco'] = valor_bloco\n",
    "\n",
    "dici_massa = {}\n",
    "dici_min = {}\n",
    "dici_valor = {}\n",
    "for p in range(volume):\n",
    "    dici_massa[float(ID[p])] = Massa[p]\n",
    "    dici_min[float(ID[p])] = Massa_Processada[p]\n",
    "    dici_valor[float(ID[p])] = valor_bloco[p]"
   ]
  },
  {
   "cell_type": "markdown",
   "metadata": {},
   "source": [
    "A célula abaixo cria listas que serão utilizadas para definir as restrições de precedência de blocos. Cada lista refere-se a uma posição em relação a um bloco b, onde para que seja possível remover este bloco b, é necessário antes remover os blocos posicionados acima dele. As figuras abaixo exibem as duas formas que este notebook pode realizar essa restrição, onde em ambos os casos o bloco vermelho é o que deseja ser extraído (bloco b). A figura à esquerda ilustra a situação 1 onde apenas cinco bloco (em azul) são necessários para extrair o bloco de interesse e a figura à direita exibe a situação 2 em que nove blocos (em azul) são necessários."
   ]
  },
  {
   "attachments": {
    "image.png": {
     "image/png": "[encoded data removed]"
    }
   },
   "cell_type": "markdown",
   "metadata": {},
   "source": [
    "![image.png](attachment:image.png)"
   ]
  },
  {
   "cell_type": "code",
   "execution_count": 5,
   "metadata": {},
   "outputs": [
    {
     "name": "stdout",
     "output_type": "stream",
     "text": [
      "Digite a metodologia de precedência de blocos desejada: 1\n"
     ]
    }
   ],
   "source": [
    "a = int(input('Digite a metodologia de precedência de blocos desejada: '))"
   ]
  },
  {
   "cell_type": "code",
   "execution_count": 6,
   "metadata": {},
   "outputs": [],
   "source": [
    "lista_todos_valores = []\n",
    "for zuo in range(area+1, volume+1):\n",
    "    lista_todos_valores.append(zuo)\n",
    "\n",
    "lista_primeira_linha = []\n",
    "for t in lista_todos_valores:\n",
    "    if t % area > comprimento or t % area == 0:\n",
    "        lista_primeira_linha.append(t)\n",
    "\n",
    "lista_ultima_linha = []\n",
    "for s in lista_todos_valores:\n",
    "    if s % area <= (area - comprimento) and s % area != 0:\n",
    "        lista_ultima_linha.append(s)\n",
    "\n",
    "lista_primeira_coluna = []\n",
    "for g in lista_todos_valores:\n",
    "    if g % comprimento != 1:\n",
    "        lista_primeira_coluna.append(g)\n",
    "        \n",
    "lista_última_coluna = []\n",
    "for d in lista_todos_valores:\n",
    "    if d % comprimento != 0:\n",
    "        lista_última_coluna.append(d)\n",
    "\n",
    "lista_diag_sup_esq = []\n",
    "for o in lista_primeira_linha:\n",
    "    if o % comprimento != 1:\n",
    "        lista_diag_sup_esq.append(o)\n",
    "        \n",
    "lista_diag_inf_esq = []\n",
    "for r in lista_ultima_linha:\n",
    "    if r % comprimento != 1:\n",
    "        lista_diag_inf_esq.append(r)\n",
    "\n",
    "lista_diag_sup_dir = []\n",
    "for y in lista_primeira_linha:\n",
    "    if y % comprimento != 0:\n",
    "        lista_diag_sup_dir.append(y)\n",
    "        \n",
    "lista_diag_inf_dir = []\n",
    "for x in lista_ultima_linha:\n",
    "    if x % comprimento != 0:\n",
    "        lista_diag_inf_dir.append(x)"
   ]
  },
  {
   "cell_type": "markdown",
   "metadata": {},
   "source": [
    "Os parâmetros econômicos e operacionais utilizados aqui são descritos pela tabela abaixo:"
   ]
  },
  {
   "attachments": {
    "image-2.png": {
     "image/png": "[encoded data removed]"
    }
   },
   "cell_type": "markdown",
   "metadata": {},
   "source": [
    "![image-2.png](attachment:image-2.png)"
   ]
  },
  {
   "cell_type": "markdown",
   "metadata": {},
   "source": [
    "A célula abaixo define os valores dos parâmetros Taxa de desconto, Limite de mina e Limite de usina e em seguida cria duas variáveis: blocos e anos. A primeira variável refere-se a uma lista contendo os valores das identidades de cada bloco do banco de dados e a segunda refere-se uma lista contendo, em ordem crescente, do número 1 ao número de anos necessários para gerar a cava final. Neste primeiro momento a otimização acontecerá sem que haja limite de mina ou usina, por essa razão a variável anos aqui só possui o valor de 1 em sua lista (uma vez que a cava geral será gerada em apenas um ano)."
   ]
  },
  {
   "cell_type": "code",
   "execution_count": 7,
   "metadata": {},
   "outputs": [],
   "source": [
    "Taxa_de_desconto = 0.1\n",
    "Limite_extração = 75000\n",
    "Limite_usina = 36000\n",
    "\n",
    "blocos = ID\n",
    "anos = [1] \n",
    "desconto_anual = {year: (1/((1+Taxa_de_desconto)**(year-1))) for year in anos}"
   ]
  },
  {
   "cell_type": "markdown",
   "metadata": {},
   "source": [
    "A célula abaixo define o modelo a ser otimizado de acordo com a estrutura requerida pela biblioteca do otimizador Gurobi. Neste momento duas variáveis são criadas: extraído e Valor, ambas em função das variáveis blocos e anos. Em seguida são definidas as restrições operacionais:\n",
    "\n",
    "c1 - A equação deste código diz que se um bloco for extraído num período, não poderá ser extraído novamente.\n",
    "\n",
    "c2 - A equação deste código limita a extração de blocos num período a um determinado valor. \n",
    "\n",
    "c3 - A equação deste código limita o processamento de blocos num período a um determinado valor.\n",
    "\n",
    "b3 - Ao multiplicar a variável binária pelo dicionário dici_valor (o qual contém o valor de cada bloco), tem-se o lucro por ano gerado pelos blocos que foram extraídos e processados, o qual é definido pela variável Valor.\n",
    "\n",
    "As restrições a1 a a9 referem-se a cada posição de bloco ilustrado pelos blocos azuis na segunda proposta de precedência de blocos. Caso o tipo de precedência definido tenha sido igual a 1, os códigos referentes aos 4 blocos da situação 2 que não englobam a situação 1 são desativados. Caso o tipo de precedência definido tenha sido igual a 2, todos os 9 códigos são ativados."
   ]
  },
  {
   "cell_type": "code",
   "execution_count": 8,
   "metadata": {},
   "outputs": [
    {
     "name": "stdout",
     "output_type": "stream",
     "text": [
      "\n",
      "--------------------------------------------\n",
      "Warning: your license will expire in 8 days\n",
      "--------------------------------------------\n",
      "\n",
      "Academic license - for non-commercial use only - expires 2022-07-13\n",
      "Using license file C:\\Users\\thall\\gurobi.lic\n"
     ]
    }
   ],
   "source": [
    "model = gp.Model('opencastMining')\n",
    "\n",
    "extraído = model.addVars(blocos, anos, vtype=gp.GRB.BINARY, name=\"extraído\")\n",
    "Valor = model.addVars(blocos, anos, name='valor')\n",
    "\n",
    "c1 = model.addConstrs((gp.quicksum(extraído[b, year] for year in anos) <= 1 for b in blocos), \"c1\")\n",
    "\n",
    "c2 = model.addConstrs((gp.quicksum(extraído[b, year] * dici_massa[b] for b in blocos) <= 99999999 for year in anos), 'c2')\n",
    "\n",
    "c3 = model.addConstrs((gp.quicksum(extraído[b, year] * dici_min[b] for b in blocos) <= 99999999 for year in anos), 'c3')\n",
    "\n",
    "b3 = model.addConstrs((gp.quicksum(extraído[b, year] * dici_valor[b] for b in blocos) == Valor[b, year] for b, year in Valor), 'b3')\n",
    "\n",
    "a1 = model.addConstrs(((extraído[b, current_year] <= gp.quicksum(extraído[(b-area), next_year] for next_year in anos[current_index - 1 :]) for b in blocos for current_index, current_year in enumerate(anos) if b in lista_todos_valores)), 'a1')\n",
    "\n",
    "a2 = model.addConstrs(((extraído[b, current_year] <= gp.quicksum(extraído[(b-area-1), next_year] for next_year in anos[current_index - 1 :]) for b in blocos for current_index, current_year in enumerate(anos) if b in lista_primeira_coluna)), 'a2')\n",
    "\n",
    "a3 = model.addConstrs(((extraído[b, current_year] <= gp.quicksum(extraído[(b-area+1), next_year] for next_year in anos[current_index - 1 :]) for b in blocos for current_index, current_year in enumerate(anos) if b in lista_última_coluna)), 'a3')\n",
    "\n",
    "a4 = model.addConstrs(((extraído[b, current_year] <= gp.quicksum(extraído[(b-area-comprimento), next_year] for next_year in anos[current_index - 1 :]) for b in blocos for current_index, current_year in enumerate(anos) if b in lista_primeira_linha)), 'a4')\n",
    "\n",
    "a5 = model.addConstrs(((extraído[b, current_year] <= gp.quicksum(extraído[(b-area+comprimento), next_year] for next_year in anos[current_index - 1 :]) for b in blocos for current_index, current_year in enumerate(anos) if b in lista_ultima_linha)), 'a5')\n",
    "\n",
    "if a == 2:\n",
    "\n",
    "    a6 = model.addConstrs((extraído[b, current_year] <= gp.quicksum(extraído[(b-area-comprimento+1), next_year] for next_year in anos[current_index - 1 :]) for b in blocos for current_index, current_year in enumerate(anos) if b in lista_diag_sup_dir))\n",
    "\n",
    "    a7 = model.addConstrs((extraído[b, current_year] <= gp.quicksum(extraído[(b-area-comprimento-1), next_year] for next_year in anos[current_index - 1 :]) for b in blocos for current_index, current_year in enumerate(anos) if b in lista_diag_sup_esq))\n",
    "\n",
    "    a8 = model.addConstrs((extraído[b, current_year] <= gp.quicksum(extraído[(b-area+comprimento+1), next_year] for next_year in anos[current_index - 1 :]) for b in blocos for current_index, current_year in enumerate(anos) if b in lista_diag_inf_dir))\n",
    "\n",
    "    a9 = model.addConstrs((extraído[b, current_year] <= gp.quicksum(extraído[(b-area+comprimento-1), next_year] for next_year in anos[current_index - 1 :]) for b in blocos for current_index, current_year in enumerate(anos) if b in lista_diag_inf_esq))"
   ]
  },
  {
   "cell_type": "markdown",
   "metadata": {},
   "source": [
    "O objetivo do otimizador é encontrar o maior valor resultado da função objetivo variando o conjunto de blocos extraídos por ano. A função objetivo descrita abaixo refere-se aos somatórios de anos e blocos do produto da variável Valor pela Taxa de desconto anual."
   ]
  },
  {
   "cell_type": "code",
   "execution_count": 9,
   "metadata": {},
   "outputs": [],
   "source": [
    "extractionProfit = gp.quicksum(Valor[b, year]*desconto_anual[year] for b in blocos for year in anos)\n",
    "model.setObjective(extractionProfit, sense=gp.GRB.MAXIMIZE)"
   ]
  },
  {
   "cell_type": "markdown",
   "metadata": {},
   "source": [
    "O comando abaixo colocar a otimização para rodar."
   ]
  },
  {
   "cell_type": "code",
   "execution_count": 10,
   "metadata": {},
   "outputs": [
    {
     "name": "stdout",
     "output_type": "stream",
     "text": [
      "Gurobi Optimizer version 9.1.1 build v9.1.1rc0 (win64)\n",
      "Thread count: 2 physical cores, 4 logical processors, using up to 4 threads\n",
      "Optimize a model with 2842 rows, 1000 columns and 255208 nonzeros\n",
      "Model fingerprint: 0xf7aca3bd\n",
      "Variable types: 500 continuous, 500 integer (500 binary)\n",
      "Coefficient statistics:\n",
      "  Matrix range     [1e+00, 1e+05]\n",
      "  Objective range  [1e+00, 1e+00]\n",
      "  Bounds range     [1e+00, 1e+00]\n",
      "  RHS range        [1e+00, 1e+08]\n",
      "Found heuristic solution: objective -0.0000000\n",
      "Presolve removed 1451 rows and 597 columns\n",
      "Presolve time: 0.17s\n",
      "Presolved: 1391 rows, 403 columns, 3183 nonzeros\n",
      "Found heuristic solution: objective 2.812293e+08\n",
      "Variable types: 1 continuous, 402 integer (402 binary)\n",
      "\n",
      "Root relaxation: cutoff, 130 iterations, 0.00 seconds\n",
      "\n",
      "    Nodes    |    Current Node    |     Objective Bounds      |     Work\n",
      " Expl Unexpl |  Obj  Depth IntInf | Incumbent    BestBd   Gap | It/Node Time\n",
      "\n",
      "     0     0     cutoff    0      2.8123e+08 2.8123e+08  0.00%     -    0s\n",
      "\n",
      "Explored 0 nodes (130 simplex iterations) in 0.25 seconds\n",
      "Thread count was 4 (of 4 available processors)\n",
      "\n",
      "Solution count 2: 2.81229e+08 -0 \n",
      "\n",
      "Optimal solution found (tolerance 1.00e-04)\n",
      "Best objective 2.812293131580e+08, best bound 2.812293131580e+08, gap 0.0000%\n"
     ]
    }
   ],
   "source": [
    "model.optimize()"
   ]
  },
  {
   "cell_type": "markdown",
   "metadata": {},
   "source": [
    "O código abaixo calcula a tonelagem total necessária para gerar a cava final e a divide pela capacidade anual de extração do empreendimento. Desta forma, arredondando o valor para cima, tem-se a estimativa de vida útil da mina que é número de anos necessários para gerar a cava final."
   ]
  },
  {
   "cell_type": "code",
   "execution_count": 11,
   "metadata": {},
   "outputs": [
    {
     "name": "stdout",
     "output_type": "stream",
     "text": [
      "O total de massa extraída para gerar a cava final é de 198420 toneladas. Considerando uma capacidade de lavra anual de 75000 toneladas, será necessário 3 anos para gerar a cava ótima da mina.\n"
     ]
    }
   ],
   "source": [
    "blocos_extraídos_ano0 = []\n",
    "for year in anos:\n",
    "    for b in blocos:\n",
    "        if round(extraído[b, year].X) == 1:\n",
    "            if year == 1:\n",
    "                blocos_extraídos_ano0.append(b)\n",
    "    \n",
    "ano_00 = sorted(blocos_extraídos_ano0)\n",
    "soma = 0\n",
    "for item in blocos_extraídos_ano0:\n",
    "    n1 = Massa[item-1]\n",
    "    soma = soma + n1\n",
    "print('O total de massa extraída para gerar a cava final é de', soma,'toneladas. Considerando uma capacidade de lavra anual de', Limite_extração, 'toneladas, será necessário', soma//Limite_extração+1, 'anos para gerar a cava ótima da mina.')"
   ]
  },
  {
   "cell_type": "markdown",
   "metadata": {},
   "source": [
    "O algoritmo acima definiu o período necessário para gerar a cava final da mina. De posse dessa informação pôde-se rodar o modelo considerando os anos de vida útil da mina e as capacidades de mina e usina do empreendimento, como a célula abaixo propõe."
   ]
  },
  {
   "cell_type": "code",
   "execution_count": 12,
   "metadata": {},
   "outputs": [
    {
     "name": "stdout",
     "output_type": "stream",
     "text": [
      "Gurobi Optimizer version 9.1.1 build v9.1.1rc0 (win64)\n",
      "Thread count: 2 physical cores, 4 logical processors, using up to 4 threads\n",
      "Optimize a model with 7526 rows, 3000 columns and 771144 nonzeros\n",
      "Model fingerprint: 0x4f04efba\n",
      "Variable types: 1500 continuous, 1500 integer (1500 binary)\n",
      "Coefficient statistics:\n",
      "  Matrix range     [1e+00, 1e+05]\n",
      "  Objective range  [8e-01, 1e+00]\n",
      "  Bounds range     [1e+00, 1e+00]\n",
      "  RHS range        [1e+00, 8e+04]\n",
      "Found heuristic solution: objective -0.0000000\n",
      "Presolve removed 3348 rows and 1879 columns\n",
      "Presolve time: 0.52s\n",
      "Presolved: 4178 rows, 1121 columns, 15124 nonzeros\n",
      "Variable types: 3 continuous, 1118 integer (1118 binary)\n",
      "\n",
      "Root relaxation: objective 3.219791e+08, 481 iterations, 0.04 seconds\n",
      "\n",
      "    Nodes    |    Current Node    |     Objective Bounds      |     Work\n",
      " Expl Unexpl |  Obj  Depth IntInf | Incumbent    BestBd   Gap | It/Node Time\n",
      "\n",
      "     0     0 3.2198e+08    0  252   -0.00000 3.2198e+08      -     -    0s\n",
      "H    0     0                    1.459786e+08 3.2198e+08   121%     -    0s\n",
      "H    0     0                    1.534692e+08 3.2198e+08   110%     -    0s\n",
      "H    0     0                    1.544737e+08 3.2198e+08   108%     -    0s\n",
      "H    0     0                    1.557221e+08 3.2198e+08   107%     -    0s\n",
      "H    0     0                    1.571471e+08 3.2198e+08   105%     -    0s\n",
      "     0     0 2.8907e+08    0  126 1.5715e+08 2.8907e+08  83.9%     -    0s\n",
      "H    0     0                    2.012456e+08 2.8907e+08  43.6%     -    0s\n",
      "H    0     0                    2.638243e+08 2.8907e+08  9.57%     -    0s\n",
      "     0     0 2.8901e+08    0  135 2.6382e+08 2.8901e+08  9.55%     -    0s\n",
      "     0     0 2.8900e+08    0  134 2.6382e+08 2.8900e+08  9.54%     -    1s\n",
      "     0     0 2.8082e+08    0  115 2.6382e+08 2.8082e+08  6.44%     -    1s\n",
      "H    0     0                    2.643425e+08 2.8082e+08  6.24%     -    1s\n",
      "     0     0 2.7988e+08    0  132 2.6434e+08 2.7988e+08  5.88%     -    1s\n",
      "     0     0 2.7982e+08    0  128 2.6434e+08 2.7982e+08  5.85%     -    1s\n",
      "     0     0 2.7673e+08    0  132 2.6434e+08 2.7673e+08  4.68%     -    1s\n",
      "H    0     0                    2.648129e+08 2.7673e+08  4.50%     -    1s\n",
      "     0     0 2.7649e+08    0  134 2.6481e+08 2.7649e+08  4.41%     -    1s\n",
      "     0     0 2.7646e+08    0  131 2.6481e+08 2.7646e+08  4.40%     -    1s\n",
      "     0     0 2.7527e+08    0  135 2.6481e+08 2.7527e+08  3.95%     -    1s\n",
      "H    0     0                    2.649424e+08 2.7527e+08  3.90%     -    1s\n",
      "     0     0 2.7490e+08    0  145 2.6494e+08 2.7490e+08  3.76%     -    1s\n",
      "     0     0 2.7396e+08    0  128 2.6494e+08 2.7396e+08  3.40%     -    1s\n",
      "H    0     0                    2.667349e+08 2.7396e+08  2.71%     -    1s\n",
      "H    0     0                    2.706094e+08 2.7396e+08  1.24%     -    1s\n",
      "     0     0 2.7373e+08    0  122 2.7061e+08 2.7373e+08  1.15%     -    1s\n",
      "     0     0 2.7373e+08    0  122 2.7061e+08 2.7373e+08  1.15%     -    1s\n",
      "H    0     0                    2.707389e+08 2.7373e+08  1.10%     -    1s\n",
      "H    0     0                    2.709980e+08 2.7373e+08  1.01%     -    1s\n",
      "     0     0 2.7373e+08    0  106 2.7100e+08 2.7373e+08  1.01%     -    2s\n",
      "     0     0 2.7373e+08    0  123 2.7100e+08 2.7373e+08  1.01%     -    2s\n",
      "     0     0 2.7373e+08    0  121 2.7100e+08 2.7373e+08  1.01%     -    2s\n",
      "     0     0 2.7343e+08    0  117 2.7100e+08 2.7343e+08  0.90%     -    2s\n",
      "     0     0 2.7341e+08    0  117 2.7100e+08 2.7341e+08  0.89%     -    2s\n",
      "     0     0 2.7341e+08    0  117 2.7100e+08 2.7341e+08  0.89%     -    2s\n",
      "     0     0 2.7341e+08    0  106 2.7100e+08 2.7341e+08  0.89%     -    2s\n",
      "     0     0 2.7320e+08    0  103 2.7100e+08 2.7320e+08  0.81%     -    2s\n",
      "     0     0 2.7318e+08    0  102 2.7100e+08 2.7318e+08  0.81%     -    2s\n",
      "     0     0 2.7318e+08    0  102 2.7100e+08 2.7318e+08  0.80%     -    2s\n",
      "     0     0 2.7313e+08    0  102 2.7100e+08 2.7313e+08  0.79%     -    2s\n",
      "     0     0 2.7313e+08    0  102 2.7100e+08 2.7313e+08  0.79%     -    2s\n",
      "     0     0 2.7312e+08    0  102 2.7100e+08 2.7312e+08  0.78%     -    2s\n",
      "     0     0 2.7312e+08    0  102 2.7100e+08 2.7312e+08  0.78%     -    2s\n",
      "     0     0 2.7298e+08    0   98 2.7100e+08 2.7298e+08  0.73%     -    2s\n",
      "     0     0 2.7293e+08    0   84 2.7100e+08 2.7293e+08  0.71%     -    2s\n",
      "     0     0 2.7292e+08    0   93 2.7100e+08 2.7292e+08  0.71%     -    2s\n",
      "     0     0 2.7285e+08    0   93 2.7100e+08 2.7285e+08  0.68%     -    2s\n",
      "     0     0 2.7259e+08    0   71 2.7100e+08 2.7259e+08  0.59%     -    3s\n",
      "     0     0 2.7259e+08    0   71 2.7100e+08 2.7259e+08  0.59%     -    3s\n",
      "     0     0 2.7259e+08    0   66 2.7100e+08 2.7259e+08  0.59%     -    3s\n",
      "     0     0 2.7230e+08    0   69 2.7100e+08 2.7230e+08  0.48%     -    3s\n",
      "     0     0 2.7225e+08    0   69 2.7100e+08 2.7225e+08  0.46%     -    3s\n",
      "     0     0 2.7165e+08    0   69 2.7100e+08 2.7165e+08  0.24%     -    3s\n",
      "     0     0 2.7165e+08    0   69 2.7100e+08 2.7165e+08  0.24%     -    3s\n",
      "     0     0 2.7109e+08    0   12 2.7100e+08 2.7109e+08  0.03%     -    3s\n",
      "     0     0 2.7109e+08    0   12 2.7100e+08 2.7109e+08  0.03%     -    3s\n",
      "\n",
      "Cutting planes:\n",
      "  Gomory: 4\n",
      "  MIR: 2\n",
      "\n",
      "Explored 1 nodes (2876 simplex iterations) in 3.25 seconds\n",
      "Thread count was 4 (of 4 available processors)\n",
      "\n",
      "Solution count 10: 2.70998e+08 2.70739e+08 2.70609e+08 ... 1.57147e+08\n",
      "\n",
      "Optimal solution found (tolerance 1.00e-04)\n",
      "Best objective 2.709979874989e+08, best bound 2.709979874989e+08, gap 0.0000%\n"
     ]
    }
   ],
   "source": [
    "blocos = ID\n",
    "anos = []\n",
    "for y in range(soma//Limite_extração+1):\n",
    "    anos.append(y+1)\n",
    "limit_mine = {}\n",
    "limit_process = {}\n",
    "for c in range(soma//Limite_extração+1):\n",
    "    limit_mine[int(anos[c])] = Limite_extração\n",
    "    limit_process[int(anos[c])] = Limite_usina\n",
    "desconto_anual = {year: (1/((1+Taxa_de_desconto)**(year-1))) for year in anos}\n",
    "\n",
    "model = gp.Model('opencastMining')\n",
    "\n",
    "extraído = model.addVars(blocos, anos, vtype=gp.GRB.BINARY, name=\"extraído\")\n",
    "Valor = model.addVars(blocos, anos, name='valor')\n",
    "\n",
    "c1 = model.addConstrs(gp.quicksum(extraído[b, year] for year in anos) <= 1 for b in blocos)\n",
    "\n",
    "c2 = model.addConstrs(gp.quicksum(extraído[b, year] * dici_massa[b] for b in blocos) <= limit_mine[year] for year in anos)\n",
    "\n",
    "c3 = model.addConstrs(gp.quicksum(extraído[b, year] * dici_min[b] for b in blocos) <= limit_process[year] for year in anos)\n",
    "\n",
    "b3 = model.addConstrs((gp.quicksum(extraído[b, year] * dici_valor[b] for b in blocos) == Valor[b, year] for b, year in Valor), 'b3')\n",
    "\n",
    "a1 = model.addConstrs((extraído[b, current_year] <= gp.quicksum(extraído[(b-area), next_year] for next_year in anos[:current_year]) for b in blocos for current_index, current_year in enumerate(anos) if b in lista_todos_valores))\n",
    "\n",
    "a2 = model.addConstrs((extraído[b, current_year] <= gp.quicksum(extraído[(b-area-1), next_year] for next_year in anos[:current_year]) for b in blocos for current_index, current_year in enumerate(anos) if b in lista_primeira_coluna))\n",
    "\n",
    "a3 = model.addConstrs((extraído[b, current_year] <= gp.quicksum(extraído[(b-area+1), next_year] for next_year in anos[:current_year]) for b in blocos for current_index, current_year in enumerate(anos) if b in lista_última_coluna))\n",
    "\n",
    "a4 = model.addConstrs((extraído[b, current_year] <= gp.quicksum(extraído[(b-area-comprimento), next_year] for next_year in anos[:current_year]) for b in blocos for current_index, current_year in enumerate(anos) if b in lista_primeira_linha))\n",
    "\n",
    "a5 = model.addConstrs((extraído[b, current_year] <= gp.quicksum(extraído[(b-area+comprimento), next_year] for next_year in anos[:current_year]) for b in blocos for current_index, current_year in enumerate(anos) if b in lista_ultima_linha))\n",
    "\n",
    "if a == 2:\n",
    "\n",
    "    a6 = model.addConstrs((extraído[b, current_year] <= gp.quicksum(extraído[(b-area-comprimento+1), next_year] for next_year in anos[:current_index]) for b in blocos for current_index, current_year in enumerate(anos) if b in lista_diag_sup_dir))\n",
    "\n",
    "    a7 = model.addConstrs((extraído[b, current_year] <= gp.quicksum(extraído[(b-area-comprimento-1), next_year] for next_year in anos[:current_index]) for b in blocos for current_index, current_year in enumerate(anos) if b in lista_diag_sup_esq))\n",
    "\n",
    "    a8 = model.addConstrs((extraído[b, current_year] <= gp.quicksum(extraído[(b-area+comprimento+1), next_year] for next_year in anos[:current_index]) for b in blocos for current_index, current_year in enumerate(anos) if b in lista_diag_inf_dir))\n",
    "\n",
    "    a9 = model.addConstrs((extraído[b, current_year] <= gp.quicksum(extraído[(b-area+comprimento-1), next_year] for next_year in anos[:current_index]) for b in blocos for current_index, current_year in enumerate(anos) if b in lista_diag_inf_esq))\n",
    "\n",
    "extractionProfit = gp.quicksum(Valor[b, year]*desconto_anual[year] for b in blocos for year in anos)\n",
    "model.setObjective(extractionProfit, sense=gp.GRB.MAXIMIZE)\n",
    "\n",
    "model.setObjective(extractionProfit, sense=gp.GRB.MAXIMIZE)\n",
    "model.optimize()"
   ]
  },
  {
   "cell_type": "markdown",
   "metadata": {},
   "source": [
    "A solução do modelo é apresentada pelo algoritmo abaixo:"
   ]
  },
  {
   "cell_type": "code",
   "execution_count": 13,
   "metadata": {},
   "outputs": [
    {
     "name": "stdout",
     "output_type": "stream",
     "text": [
      "ano 01:\n",
      "blocos enviados à pilha de estéril no primeiro ano: [35, 36, 46, 47, 53, 57, 65, 66, 75, 155, 156, 165]\n",
      "blocos enviados à usina no primeiro ano: [44, 45, 54, 55, 56, 64, 145, 146, 154, 255]\n",
      "\n",
      "ano 02:\n",
      "blocos enviados à pilha de estéril no segundo ano: [26, 37, 48, 58, 59, 63, 67, 68, 74, 76, 77, 85, 86, 136, 157, 158, 164, 166, 167, 175, 176]\n",
      "blocos enviados à usina no segundo ano: [147, 246, 257, 265, 266]\n",
      "\n",
      "ano 03:\n",
      "blocos enviados à pilha de estéril no terceiro ano: [16, 25, 27, 34, 38, 43, 49, 52, 126, 135, 137, 144, 148, 153, 236, 245, 254, 256]\n",
      "blocos enviados à usina no terceiro ano: [247, 346, 355]\n"
     ]
    }
   ],
   "source": [
    "blocos_extraídos_ano1 = []\n",
    "blocos_extraídos_ano2 = []\n",
    "blocos_extraídos_ano3 = []\n",
    "\n",
    "for year in anos:\n",
    "    for b in blocos:\n",
    "        if round(extraído[b, year].X) == 1:\n",
    "            if year == 1:\n",
    "                blocos_extraídos_ano1.append(b)\n",
    "            if year == 2:\n",
    "                blocos_extraídos_ano2.append(b)\n",
    "            if year == 3:\n",
    "                blocos_extraídos_ano3.append(b)\n",
    "    \n",
    "pilha_ano1 = []\n",
    "usina_ano1 = []\n",
    "for a1 in blocos_extraídos_ano1:\n",
    "    if Usina[a1-1] > -2850:\n",
    "        usina_ano1.append(a1)\n",
    "    else:\n",
    "        pilha_ano1.append(a1)\n",
    "pilha_ano2 = []\n",
    "usina_ano2 = []\n",
    "for a2 in blocos_extraídos_ano2:\n",
    "    if Usina[a2-1]*(1-Taxa_de_desconto) > -2850:\n",
    "        usina_ano2.append(a2)\n",
    "    else:\n",
    "        pilha_ano2.append(a2)\n",
    "pilha_ano3 = []\n",
    "usina_ano3 = []\n",
    "for a3 in blocos_extraídos_ano3:\n",
    "    if Usina[a3-1]*(1-Taxa_de_desconto)*(1-Taxa_de_desconto) > -2850:\n",
    "        usina_ano3.append(a3)\n",
    "    else:\n",
    "        pilha_ano3.append(a3)\n",
    "        \n",
    "print('ano 01:')\n",
    "print('blocos enviados à pilha de estéril no primeiro ano:',pilha_ano1)\n",
    "print('blocos enviados à usina no primeiro ano:',usina_ano1)\n",
    "print('')\n",
    "print('ano 02:')\n",
    "print('blocos enviados à pilha de estéril no segundo ano:',pilha_ano2)\n",
    "print('blocos enviados à usina no segundo ano:',usina_ano2)\n",
    "print('')\n",
    "print('ano 03:')\n",
    "print('blocos enviados à pilha de estéril no terceiro ano:',pilha_ano3)\n",
    "print('blocos enviados à usina no terceiro ano:',usina_ano3)"
   ]
  },
  {
   "cell_type": "markdown",
   "metadata": {},
   "source": [
    "As três células abaixo exibem, respectivamente, a cava da jazida após extração dos blocos no primeiro, segundo e terceiro ano."
   ]
  },
  {
   "cell_type": "code",
   "execution_count": null,
   "metadata": {},
   "outputs": [],
   "source": [
    "df.drop(blocos_extraídos_ano1, inplace = True)\n",
    "i_ano01 = list(df['IX'].values)\n",
    "j_ano01 = list(df['IY'].values)\n",
    "k_ano01 = list(df['IZ'].values)\n",
    "valores_ano01 = list(df['Valor do bloco'].values)\n",
    "\n",
    "blockModelData = {\n",
    "    'x' : i_ano01,\n",
    "    'y' : j_ano01,\n",
    "    'z' : k_ano01,\n",
    "    'var' : valores_ano01\n",
    "}\n",
    "\n",
    "blockModel = pd.DataFrame(blockModelData)\n",
    "blockModel.plot3D(\n",
    "    xyz_cols=('x', 'y', 'z'),\n",
    "    dims=(1, 1, 1),  \n",
    "    col='var',\n",
    ")"
   ]
  },
  {
   "cell_type": "code",
   "execution_count": null,
   "metadata": {},
   "outputs": [],
   "source": [
    "df.drop(blocos_extraídos_ano2, inplace = True)\n",
    "i_ano02 = list(df['IX'].values)\n",
    "j_ano02 = list(df['IY'].values)\n",
    "k_ano02 = list(df['IZ'].values)\n",
    "valores_ano02 = list(df['Valor do bloco'].values)\n",
    "\n",
    "blockModelData = {\n",
    "    'x' : i_ano02,\n",
    "    'y' : j_ano02,\n",
    "    'z' : k_ano02,\n",
    "    'var' : valores_ano02\n",
    "}\n",
    "\n",
    "blockModel = pd.DataFrame(blockModelData)\n",
    "blockModel.plot3D(\n",
    "    xyz_cols=('x', 'y', 'z'),\n",
    "    dims=(1, 1, 1),  \n",
    "    col='var',\n",
    ")"
   ]
  },
  {
   "cell_type": "code",
   "execution_count": null,
   "metadata": {},
   "outputs": [],
   "source": [
    "df.drop(blocos_extraídos_ano3, inplace = True)\n",
    "i_ano03 = list(df['IX'].values)\n",
    "j_ano03 = list(df['IY'].values)\n",
    "k_ano03 = list(df['IZ'].values)\n",
    "valores_ano03 = list(df['Valor do bloco'].values)\n",
    "\n",
    "blockModelData = {\n",
    "    'x' : i_ano03,\n",
    "    'y' : j_ano03,\n",
    "    'z' : k_ano03,\n",
    "    'var' : valores_ano03\n",
    "}\n",
    "\n",
    "blockModel = pd.DataFrame(blockModelData)\n",
    "blockModel.plot3D(\n",
    "    xyz_cols=('x', 'y', 'z'),\n",
    "    dims=(1, 1, 1),  \n",
    "    col='var',\n",
    ")"
   ]
  },
  {
   "cell_type": "markdown",
   "metadata": {},
   "source": [
    "As listas criadas abaixo dizem respeito ao resultado gerado pelo software comercial MiningMath seguindo os mesmos dados iniciais que este notebook. Assim como o notebook, o software encontrou uma solução de três anos de vida útil da mina, porém alguns dos blocos lavrados por período são diferentes."
   ]
  },
  {
   "cell_type": "code",
   "execution_count": null,
   "metadata": {},
   "outputs": [],
   "source": [
    "ano_01_miningmath = [35, 36, 37, 44, 45, 46, 47, 48, 54, 55, 56, 57, 58, 64, 65, 66, 67, 68, 75, 76, 77, 146, 155, 157, 166]\n",
    "ano_02_miningmath = [26, 33, 34, 43, 53, 59, 63, 73, 74, 86, 136, 144, 145, 147, 154, 156, 158, 164, 165, 167, 176, 246, 255, 257, 266]\n",
    "ano_03_miningmath = [16, 24, 25, 27, 28, 38, 49, 52, 78, 85, 87, 126, 135, 137, 148, 153, 175, 177, 236, 245, 247, 254, 256, 265, 346, 355]"
   ]
  },
  {
   "cell_type": "markdown",
   "metadata": {},
   "source": [
    "Para efeito comparativo, as células abaixo apresentam as cavas por período de acordo com a solução gerada pelo MiningMath."
   ]
  },
  {
   "cell_type": "code",
   "execution_count": null,
   "metadata": {},
   "outputs": [],
   "source": [
    "df = pd.read_csv(r'C:\\Users\\thall\\Documents\\Faculdade\\Iniciação_Científica\\Sequenciamento\\dataset5_csv.csv')\n",
    "df = df[['ID', 'IX', 'IY', 'IZ', 'Teor', 'Densidade', 'Angulo', 'Massa', 'Usina', 'Pilha']]\n",
    "df['Massa Processada'] = Massa_Processada\n",
    "df['Valor do bloco'] = valor_bloco\n",
    "ID = list(df['ID'].values)\n",
    "i = list(df['IX'].values)\n",
    "j = list(df['IY'].values)\n",
    "k = list(df['IZ'].values)\n",
    "Massa = list(df['Massa'].values)\n",
    "Teor = list(df['Teor'].values)\n",
    "Usina = list(df['Usina'].values)\n",
    "Pilha = list(df['Pilha'].values)\n",
    "index = ID\n",
    "df['index'] = index\n",
    "df.set_index('index', inplace = True)"
   ]
  },
  {
   "cell_type": "code",
   "execution_count": null,
   "metadata": {},
   "outputs": [],
   "source": [
    "df.drop(ano_01_miningmath, inplace = True)\n",
    "i_ano01 = list(df['IX'].values)\n",
    "j_ano01 = list(df['IY'].values)\n",
    "k_ano01 = list(df['IZ'].values)\n",
    "valores_ano01 = list(df['Valor do bloco'].values)\n",
    "\n",
    "blockModelData = {\n",
    "    'x' : i_ano01,\n",
    "    'y' : j_ano01,\n",
    "    'z' : k_ano01,\n",
    "    'var' : valores_ano01\n",
    "}\n",
    "\n",
    "blockModel = pd.DataFrame(blockModelData)\n",
    "blockModel.plot3D(\n",
    "    xyz_cols=('x', 'y', 'z'),\n",
    "    dims=(1, 1, 1),  \n",
    "    col='var',\n",
    ")"
   ]
  },
  {
   "cell_type": "code",
   "execution_count": null,
   "metadata": {},
   "outputs": [],
   "source": [
    "df.drop(ano_02_miningmath, inplace = True)\n",
    "i_ano02 = list(df['IX'].values)\n",
    "j_ano02 = list(df['IY'].values)\n",
    "k_ano02 = list(df['IZ'].values)\n",
    "valores_ano02 = list(df['Valor do bloco'].values)\n",
    "\n",
    "blockModelData = {\n",
    "    'x' : i_ano02,\n",
    "    'y' : j_ano02,\n",
    "    'z' : k_ano02,\n",
    "    'var' : valores_ano02\n",
    "}\n",
    "\n",
    "blockModel = pd.DataFrame(blockModelData)\n",
    "blockModel.plot3D(\n",
    "    xyz_cols=('x', 'y', 'z'),\n",
    "    dims=(1, 1, 1),  \n",
    "    col='var',\n",
    ")"
   ]
  },
  {
   "cell_type": "code",
   "execution_count": null,
   "metadata": {},
   "outputs": [],
   "source": [
    "df.drop(ano_03_miningmath, inplace = True)\n",
    "i_ano03 = list(df['IX'].values)\n",
    "j_ano03 = list(df['IY'].values)\n",
    "k_ano03 = list(df['IZ'].values)\n",
    "valores_ano03 = list(df['Valor do bloco'].values)\n",
    "\n",
    "blockModelData = {\n",
    "    'x' : i_ano03,\n",
    "    'y' : j_ano03,\n",
    "    'z' : k_ano03,\n",
    "    'var' : valores_ano03\n",
    "}\n",
    "\n",
    "blockModel = pd.DataFrame(blockModelData)\n",
    "blockModel.plot3D(\n",
    "    xyz_cols=('x', 'y', 'z'),\n",
    "    dims=(1, 1, 1),  \n",
    "    col='var',\n",
    ")"
   ]
  },
  {
   "cell_type": "code",
   "execution_count": null,
   "metadata": {},
   "outputs": [],
   "source": []
  }
 ],
 "metadata": {
  "kernelspec": {
   "display_name": "Python 3",
   "language": "python",
   "name": "python3"
  },
  "language_info": {
   "codemirror_mode": {
    "name": "ipython",
    "version": 3
   },
   "file_extension": ".py",
   "mimetype": "text/x-python",
   "name": "python",
   "nbconvert_exporter": "python",
   "pygments_lexer": "ipython3",
   "version": "3.8.6"
  }
 },
 "nbformat": 4,
 "nbformat_minor": 4
}
