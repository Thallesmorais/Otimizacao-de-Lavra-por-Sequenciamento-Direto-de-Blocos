{
 "cells": [
  {
   "cell_type": "markdown",
   "metadata": {},
   "source": [
    "# Otimização de Lavra Mineral através do Sequenciamento Direto de Blocos.\n",
    "Por: Thalles Morais"
   ]
  },
  {
   "cell_type": "markdown",
   "metadata": {},
   "source": [
    "Este notebook refere-se a um modelo de otimização de lavra a qual foi modelada de acordo com o modelo de blocos. Os dados usados como input neste notebook estão em uma tabela de 500 linhas onde cada linha possui informações de um bloco, onde todos os 500 blocos preenchem a região onde se interessa extrair minério. \n",
    "\n",
    "O objetivo deste notebook é criar um algoritmo que retorne a sequência de blocos a serem extraídos por período que apresente maior lucro, considerando restrições de capacidade de lavra, capacidade de usina e precedência de blocos. As restrições de capacidade de lavra e usina estão relacionadas à tonelagem de massa que podem ser lavradas e processadas em um ano e a restrição de precedência de bloco diz quais blocos devem ser extraídos para que outro também seja (considerando que alguns blocos estão posicionados em cima de outros)."
   ]
  },
  {
   "cell_type": "code",
   "execution_count": 19,
   "metadata": {},
   "outputs": [],
   "source": [
    "import numpy as np\n",
    "import pandas as pd\n",
    "import gurobipy as gp\n",
    "from gurobipy import GRB\n",
    "import miningpy"
   ]
  },
  {
   "cell_type": "markdown",
   "metadata": {},
   "source": [
    "As colunas da tabela usada neste notebook referem-se às informações que cada bloco possui como massa, teor e suas coordenadas no espaço. Essas informações são fundamentais para determinar se um bloco deve ou não ser extraído e, caso seja, se ele deve ser destinado à usina ou para a pilha de estéril. "
   ]
  },
  {
   "cell_type": "code",
   "execution_count": 20,
   "metadata": {},
   "outputs": [
    {
     "data": {
      "text/html": [
       "<div>\n",
       "<style scoped>\n",
       "    .dataframe tbody tr th:only-of-type {\n",
       "        vertical-align: middle;\n",
       "    }\n",
       "\n",
       "    .dataframe tbody tr th {\n",
       "        vertical-align: top;\n",
       "    }\n",
       "\n",
       "    .dataframe thead th {\n",
       "        text-align: right;\n",
       "    }\n",
       "</style>\n",
       "<table border=\"1\" class=\"dataframe\">\n",
       "  <thead>\n",
       "    <tr style=\"text-align: right;\">\n",
       "      <th></th>\n",
       "      <th>ID</th>\n",
       "      <th>IX</th>\n",
       "      <th>IY</th>\n",
       "      <th>IZ</th>\n",
       "      <th>Massa</th>\n",
       "      <th>Densidade</th>\n",
       "      <th>Teor</th>\n",
       "    </tr>\n",
       "  </thead>\n",
       "  <tbody>\n",
       "    <tr>\n",
       "      <th>0</th>\n",
       "      <td>1</td>\n",
       "      <td>1</td>\n",
       "      <td>1</td>\n",
       "      <td>5</td>\n",
       "      <td>2850</td>\n",
       "      <td>2.85</td>\n",
       "      <td>0.0</td>\n",
       "    </tr>\n",
       "    <tr>\n",
       "      <th>1</th>\n",
       "      <td>2</td>\n",
       "      <td>2</td>\n",
       "      <td>1</td>\n",
       "      <td>5</td>\n",
       "      <td>2850</td>\n",
       "      <td>2.85</td>\n",
       "      <td>0.0</td>\n",
       "    </tr>\n",
       "    <tr>\n",
       "      <th>2</th>\n",
       "      <td>3</td>\n",
       "      <td>3</td>\n",
       "      <td>1</td>\n",
       "      <td>5</td>\n",
       "      <td>2850</td>\n",
       "      <td>2.85</td>\n",
       "      <td>0.0</td>\n",
       "    </tr>\n",
       "    <tr>\n",
       "      <th>3</th>\n",
       "      <td>4</td>\n",
       "      <td>4</td>\n",
       "      <td>1</td>\n",
       "      <td>5</td>\n",
       "      <td>2850</td>\n",
       "      <td>2.85</td>\n",
       "      <td>0.0</td>\n",
       "    </tr>\n",
       "    <tr>\n",
       "      <th>4</th>\n",
       "      <td>5</td>\n",
       "      <td>5</td>\n",
       "      <td>1</td>\n",
       "      <td>5</td>\n",
       "      <td>2850</td>\n",
       "      <td>2.85</td>\n",
       "      <td>0.0</td>\n",
       "    </tr>\n",
       "  </tbody>\n",
       "</table>\n",
       "</div>"
      ],
      "text/plain": [
       "   ID  IX  IY  IZ  Massa  Densidade  Teor\n",
       "0   1   1   1   5   2850       2.85   0.0\n",
       "1   2   2   1   5   2850       2.85   0.0\n",
       "2   3   3   1   5   2850       2.85   0.0\n",
       "3   4   4   1   5   2850       2.85   0.0\n",
       "4   5   5   1   5   2850       2.85   0.0"
      ]
     },
     "execution_count": 20,
     "metadata": {},
     "output_type": "execute_result"
    }
   ],
   "source": [
    "df = pd.read_excel(r'C:\\Users\\thall\\Documents\\Faculdade\\Iniciação_Científica\\Sequenciamento\\dataset2.xlsx')\n",
    "df = df[['ID', 'IX', 'IY', 'IZ', 'Massa', 'Densidade', 'Teor']]\n",
    "df.head()"
   ]
  },
  {
   "cell_type": "code",
   "execution_count": 21,
   "metadata": {},
   "outputs": [],
   "source": [
    "ID = list(df['ID'].values)\n",
    "i = list(df['IX'].values)\n",
    "j = list(df['IY'].values)\n",
    "k = list(df['IZ'].values)\n",
    "Massa = list(df['Massa'].values)\n",
    "Densidade = list(df['Densidade'].values)\n",
    "Teor = list(df['Teor'].values)\n",
    "\n",
    "comprimento = max(i)\n",
    "largura = max(j)\n",
    "altura = max(k)\n",
    "area = comprimento*largura\n",
    "volume = comprimento*largura*altura"
   ]
  },
  {
   "cell_type": "markdown",
   "metadata": {},
   "source": [
    "As listas criadas abaixo estão relacionadas com as restrições de precedência de blocos, isto é, cada lista refere-se a uma posição de um bloco b1 em relação ao bloco b0, onde cada bloco de cada lista é testado como bloco b0. Para um bloco b0, existem cinco possíveis blocos b1 a serem removidos anteriormente, se um bloco está em determinada lista abaixo, o bloco b1 referente à posição desta lista deve ser removido."
   ]
  },
  {
   "cell_type": "code",
   "execution_count": 22,
   "metadata": {},
   "outputs": [],
   "source": [
    "lista_todos_valores = []\n",
    "for zuppo in range(area+1, volume+1):\n",
    "    lista_todos_valores.append(zuppo)\n",
    "\n",
    "lista_primeira_linha = []\n",
    "for I in lista_todos_valores:\n",
    "    if I % area > 10 or I % area == 0:\n",
    "        lista_primeira_linha.append(I)\n",
    "\n",
    "lista_ultima_linha = []\n",
    "for s in lista_todos_valores:\n",
    "    if s % area <= 90 and s % area != 0:\n",
    "        lista_ultima_linha.append(s)        \n",
    "\n",
    "lista_primeira_coluna = []\n",
    "for a in lista_todos_valores:\n",
    "    if a % comprimento != 1:\n",
    "        lista_primeira_coluna.append(a)\n",
    "        \n",
    "lista_última_coluna = []\n",
    "for d in lista_todos_valores:\n",
    "    if d % comprimento != 0:\n",
    "        lista_última_coluna.append(d)\n",
    "        \n",
    "lista_diag_sup_esq = []\n",
    "for o in lista_primeira_linha:\n",
    "    if o % 10 != 1:\n",
    "        lista_diag_sup_esq.append(o)\n",
    "\n",
    "lista_diag_inf_esq = []\n",
    "for r in lista_ultima_linha:\n",
    "    if r % 10 != 1:\n",
    "        lista_diag_inf_esq.append(r)\n",
    "        \n",
    "lista_diag_sup_dir = []\n",
    "for a in lista_primeira_linha:\n",
    "    if a % 10 != 0:\n",
    "        lista_diag_sup_dir.append(a)\n",
    "        \n",
    "lista_diag_inf_dir = []\n",
    "for x in lista_ultima_linha:\n",
    "    if x % 10 != 0:\n",
    "        lista_diag_inf_dir.append(x)"
   ]
  },
  {
   "cell_type": "markdown",
   "metadata": {},
   "source": [
    "As informações abaixo dizem respeito aos parâmetros econômicos do cenário considerado, onde:\n",
    "    \n",
    "• Custo por tonelada lavrada: $ 1\n",
    "\n",
    "• Custo por tonelada processada: $ 4\n",
    "\n",
    "• Custo por tonelada do produto final: $ 1488,12\n",
    "\n",
    "• Preço por tonelada do produto final: $ 6576,38\n",
    "\n",
    "• Taxa de desconto: 10%\n",
    "\n",
    "• Recuperação de minério no processamento: 88%\n",
    "\n",
    "Para determinar quais blocos podem ser enviados para a usina e quais não, foi utilizada a função benefício representada pela equação:\n"
   ]
  },
  {
   "attachments": {
    "image.png": {
     "image/png": "[encoded data removed]"
    }
   },
   "cell_type": "markdown",
   "metadata": {},
   "source": [
    "# ![image.png](attachment:image.png)"
   ]
  },
  {
   "cell_type": "markdown",
   "metadata": {},
   "source": [
    "Todos os 500 blocos são testados nessa função onde se o seu valor for positivo o bloco, caso lavrado, é destinado para usina, caso contrário, destinado para a pilha de estéril."
   ]
  },
  {
   "cell_type": "code",
   "execution_count": 23,
   "metadata": {},
   "outputs": [
    {
     "data": {
      "text/html": [
       "<div>\n",
       "<style scoped>\n",
       "    .dataframe tbody tr th:only-of-type {\n",
       "        vertical-align: middle;\n",
       "    }\n",
       "\n",
       "    .dataframe tbody tr th {\n",
       "        vertical-align: top;\n",
       "    }\n",
       "\n",
       "    .dataframe thead th {\n",
       "        text-align: right;\n",
       "    }\n",
       "</style>\n",
       "<table border=\"1\" class=\"dataframe\">\n",
       "  <thead>\n",
       "    <tr style=\"text-align: right;\">\n",
       "      <th></th>\n",
       "      <th>ID</th>\n",
       "      <th>IX</th>\n",
       "      <th>IY</th>\n",
       "      <th>IZ</th>\n",
       "      <th>Massa</th>\n",
       "      <th>Densidade</th>\n",
       "      <th>Teor</th>\n",
       "      <th>Massa Processada</th>\n",
       "      <th>Lucro/Prejuízo</th>\n",
       "    </tr>\n",
       "  </thead>\n",
       "  <tbody>\n",
       "    <tr>\n",
       "      <th>0</th>\n",
       "      <td>1</td>\n",
       "      <td>1</td>\n",
       "      <td>1</td>\n",
       "      <td>5</td>\n",
       "      <td>2850</td>\n",
       "      <td>2.85</td>\n",
       "      <td>0.0</td>\n",
       "      <td>0</td>\n",
       "      <td>-2590.909091</td>\n",
       "    </tr>\n",
       "    <tr>\n",
       "      <th>1</th>\n",
       "      <td>2</td>\n",
       "      <td>2</td>\n",
       "      <td>1</td>\n",
       "      <td>5</td>\n",
       "      <td>2850</td>\n",
       "      <td>2.85</td>\n",
       "      <td>0.0</td>\n",
       "      <td>0</td>\n",
       "      <td>-2590.909091</td>\n",
       "    </tr>\n",
       "    <tr>\n",
       "      <th>2</th>\n",
       "      <td>3</td>\n",
       "      <td>3</td>\n",
       "      <td>1</td>\n",
       "      <td>5</td>\n",
       "      <td>2850</td>\n",
       "      <td>2.85</td>\n",
       "      <td>0.0</td>\n",
       "      <td>0</td>\n",
       "      <td>-2590.909091</td>\n",
       "    </tr>\n",
       "    <tr>\n",
       "      <th>3</th>\n",
       "      <td>4</td>\n",
       "      <td>4</td>\n",
       "      <td>1</td>\n",
       "      <td>5</td>\n",
       "      <td>2850</td>\n",
       "      <td>2.85</td>\n",
       "      <td>0.0</td>\n",
       "      <td>0</td>\n",
       "      <td>-2590.909091</td>\n",
       "    </tr>\n",
       "    <tr>\n",
       "      <th>4</th>\n",
       "      <td>5</td>\n",
       "      <td>5</td>\n",
       "      <td>1</td>\n",
       "      <td>5</td>\n",
       "      <td>2850</td>\n",
       "      <td>2.85</td>\n",
       "      <td>0.0</td>\n",
       "      <td>0</td>\n",
       "      <td>-2590.909091</td>\n",
       "    </tr>\n",
       "  </tbody>\n",
       "</table>\n",
       "</div>"
      ],
      "text/plain": [
       "   ID  IX  IY  IZ  Massa  Densidade  Teor  Massa Processada  Lucro/Prejuízo\n",
       "0   1   1   1   5   2850       2.85   0.0                 0    -2590.909091\n",
       "1   2   2   1   5   2850       2.85   0.0                 0    -2590.909091\n",
       "2   3   3   1   5   2850       2.85   0.0                 0    -2590.909091\n",
       "3   4   4   1   5   2850       2.85   0.0                 0    -2590.909091\n",
       "4   5   5   1   5   2850       2.85   0.0                 0    -2590.909091"
      ]
     },
     "execution_count": 23,
     "metadata": {},
     "output_type": "execute_result"
    }
   ],
   "source": [
    "Custo_Mina = 1.00\n",
    "Custo_Usina = 4.00\n",
    "Custo_Produto = 1488.12\n",
    "Preço_minério = 6576.38\n",
    "Taxa_de_desconto = 10.00\n",
    "Recuperação = 0.88\n",
    "ano = 1\n",
    "Massa_Processada = []\n",
    "Lucro_Prejuízo = []\n",
    "\n",
    "for num in range(int(volume)):\n",
    "    lucro_prejuízo = (Massa[num]*(Teor[num]/100)*Recuperação*(Preço_minério-Custo_Produto) - Massa[num]*Custo_Mina - Massa[num]*Custo_Usina)*(1/(1+(Taxa_de_desconto/100)**ano))\n",
    "    Lucro_Prejuízo.append(lucro_prejuízo)\n",
    "    if lucro_prejuízo > 0:\n",
    "        massa_processada = Massa[num]\n",
    "    else:\n",
    "        massa_processada = 0\n",
    "    Massa_Processada.append(massa_processada)\n",
    "    \n",
    "Lucro_Prej = []\n",
    "for xuxu in range(int(volume)):\n",
    "    lucro_prej = (Massa_Processada[xuxu]*Teor[xuxu]/100*Recuperação*(Preço_minério-Custo_Produto) - Massa[xuxu]*Custo_Mina - Massa_Processada[xuxu]*Custo_Usina)*(1/(1+(Taxa_de_desconto/100)**ano))\n",
    "    Lucro_Prej.append(lucro_prej)\n",
    "    \n",
    "df['Massa Processada'] = Massa_Processada\n",
    "df['Lucro/Prejuízo'] = Lucro_Prej\n",
    "\n",
    "valores = list(df['Lucro/Prejuízo'].values)\n",
    "df.head()"
   ]
  },
  {
   "cell_type": "markdown",
   "metadata": {},
   "source": [
    "Os dicionários criados abaixo serão usados para definir as restrições anteriormente mencionadas."
   ]
  },
  {
   "cell_type": "code",
   "execution_count": 24,
   "metadata": {},
   "outputs": [],
   "source": [
    "dici_massa = {}\n",
    "for d0, d1 in zip(range(1,volume+1),Massa):\n",
    "    dici_massa[float(d0)] = d1\n",
    "    \n",
    "dici_min = {}\n",
    "for m0, m1 in zip(range(1,volume+1),Massa_Processada):\n",
    "    dici_min[float(m0)] = m1\n",
    "    \n",
    "Teor_min = {}\n",
    "for t0, t1 in zip(range(1,volume+1), Teor):\n",
    "    Teor_min[float(t0)] = t1"
   ]
  },
  {
   "cell_type": "markdown",
   "metadata": {},
   "source": [
    "Através do algoritmo abaixo é possível visualizar a região de interesse modelada em blocos."
   ]
  },
  {
   "cell_type": "code",
   "execution_count": 25,
   "metadata": {},
   "outputs": [
    {
     "data": {
      "text/plain": [
       "<pyvista.plotting.plotting.Plotter at 0x188750e88b0>"
      ]
     },
     "execution_count": 25,
     "metadata": {},
     "output_type": "execute_result"
    }
   ],
   "source": [
    "blockModelData = {\n",
    "    'x' : i,\n",
    "    'y' : j,\n",
    "    'z' : k,\n",
    "    'var' : valores\n",
    "}\n",
    "\n",
    "blockModel = pd.DataFrame(blockModelData)\n",
    "blockModel.plot3D(\n",
    "    xyz_cols=('x', 'y', 'z'),\n",
    "    dims=(1, 1, 1),  \n",
    "    col='var',\n",
    ")"
   ]
  },
  {
   "cell_type": "markdown",
   "metadata": {},
   "source": [
    "As linhas abaixo definem um período passivo de extração por 3 anos onde a cada ano é possível extrair 75.000 e processar 36.000 toneladas de massa."
   ]
  },
  {
   "cell_type": "code",
   "execution_count": 26,
   "metadata": {},
   "outputs": [],
   "source": [
    "blocks = ID\n",
    "years = [3, 2, 1]\n",
    "limit_mine = {3: 75000, 2: 75000, 1: 75000}\n",
    "limit_process= {3: 36000, 2: 36000, 1: 36000} \n",
    "time_discount = {year: (1/(1+1/10.0)) ** (year) for year in years}"
   ]
  },
  {
   "cell_type": "markdown",
   "metadata": {},
   "source": [
    "A célula abaixo define o modelo a ser otimizado. É criada a variável extract, a qual depende dos parâmetros blocos (blocks) e anos (years), e são definidas as 9 restrições, as quais estão relacionadas com as capacidades e precedências já mencionadas."
   ]
  },
  {
   "cell_type": "code",
   "execution_count": 27,
   "metadata": {},
   "outputs": [],
   "source": [
    "model = gp.Model('opencastMining')\n",
    "\n",
    "extract = model.addVars(blocks, years, vtype=gp.GRB.BINARY, name=\"extract\")\n",
    "mined = model.addVars(years, name='mined')\n",
    "processed = model.addVars(years, name='processed')\n",
    "\n",
    "c1 = model.addConstrs(gp.quicksum(extract[b, year] for year in years) <= 1 for b in blocks)\n",
    "\n",
    "c2 = model.addConstrs(gp.quicksum(extract[b, year] * dici_massa[b] for b in blocks) <= limit_mine[year] for year in years)\n",
    "\n",
    "c3 = model.addConstrs(gp.quicksum(extract[b, year] * dici_min[b] for b in blocks) <= limit_process[year] for year in years)\n",
    "\n",
    "b1 = model.addConstrs(gp.quicksum(extract[b, year] * dici_massa[b] for b in blocks) == mined[year] for year in years)\n",
    "\n",
    "b2 = model.addConstrs(gp.quicksum(extract[b, year] * dici_min[b] for b in blocks) == processed[year] for year in years)\n",
    "\n",
    "a1 = model.addConstrs((extract[b, current_year] <= gp.quicksum(extract[(b-area), next_year] for next_year in years[current_index - 3 :]) for b in blocks for current_index, current_year in enumerate(years) if b in lista_todos_valores))\n",
    "\n",
    "a2 = model.addConstrs((extract[b, current_year] <= gp.quicksum(extract[(b-area-1), next_year] for next_year in years[current_index - 3 :]) for b in blocks for current_index, current_year in enumerate(years) if b in lista_primeira_coluna))\n",
    "\n",
    "a3 = model.addConstrs((extract[b, current_year] <= gp.quicksum(extract[(b-area+1), next_year] for next_year in years[current_index - 3 :]) for b in blocks for current_index, current_year in enumerate(years) if b in lista_última_coluna))\n",
    "\n",
    "a4 = model.addConstrs((extract[b, current_year] <= gp.quicksum(extract[(b-area-largura), next_year] for next_year in years[current_index - 3 :]) for b in blocks for current_index, current_year in enumerate(years) if b in lista_primeira_linha))\n",
    "\n",
    "a5 = model.addConstrs((extract[b, current_year] <= gp.quicksum(extract[(b-area+largura), next_year] for next_year in years[current_index - 3 :]) for b in blocks for current_index, current_year in enumerate(years) if b in lista_ultima_linha))\n",
    "\n",
    "#a6 = model.addConstrs((extract[b, current_year] <= gp.quicksum(extract[(b-area-largura+1), next_year] for next_year in years[current_index - 3 :]) for b in blocks for current_index, current_year in enumerate(years) if b in lista_diag_sup_dir))\n",
    "\n",
    "#a7 = model.addConstrs((extract[b, current_year] <= gp.quicksum(extract[(b-area-largura-1), next_year] for next_year in years[current_index - 3 :]) for b in blocks for current_index, current_year in enumerate(years) if b in lista_diag_sup_esq))\n",
    "\n",
    "#a8 = model.addConstrs((extract[b, current_year] <= gp.quicksum(extract[(b-area+largura+1), next_year] for next_year in years[current_index - 3 :]) for b in blocks for current_index, current_year in enumerate(years) if b in lista_diag_inf_dir))\n",
    "\n",
    "#a9 = model.addConstrs((extract[b, current_year] <= gp.quicksum(extract[(b-area+largura-1), next_year] for next_year in years[current_index - 3 :]) for b in blocks for current_index, current_year in enumerate(years) if b in lista_diag_inf_esq))"
   ]
  },
  {
   "cell_type": "markdown",
   "metadata": {},
   "source": [
    "O objetivo do otimizador é encontrar o maior valor resultado da função benefício variando o conjunto de blocos extraídos por ano."
   ]
  },
  {
   "cell_type": "code",
   "execution_count": 28,
   "metadata": {},
   "outputs": [],
   "source": [
    "extractionProfit = gp.quicksum(processed[year]*(Teor_min[b]/100)*0.88*(Preço_minério-Custo_Produto)*time_discount[year] for b in blocks for year in years) \\\n",
    "- gp.quicksum(mined[year]*Custo_Mina*time_discount[year] for year in years) - gp.quicksum(processed[year]*Custo_Usina*time_discount[year] for year in years)\n",
    "\n",
    "model.setObjective(extractionProfit, sense=gp.GRB.MAXIMIZE)"
   ]
  },
  {
   "cell_type": "code",
   "execution_count": 29,
   "metadata": {},
   "outputs": [
    {
     "name": "stdout",
     "output_type": "stream",
     "text": [
      "Gurobi Optimizer version 9.1.1 build v9.1.1rc0 (win64)\n",
      "Thread count: 2 physical cores, 4 logical processors, using up to 4 threads\n",
      "Optimize a model with 6032 rows, 1506 columns and 21228 nonzeros\n",
      "Model fingerprint: 0xf35823ba\n",
      "Variable types: 6 continuous, 1500 integer (1500 binary)\n",
      "Coefficient statistics:\n",
      "  Matrix range     [1e+00, 3e+03]\n",
      "  Objective range  [8e-01, 5e+02]\n",
      "  Bounds range     [1e+00, 1e+00]\n",
      "  RHS range        [1e+00, 8e+04]\n",
      "Found heuristic solution: objective -0.0000000\n",
      "Presolve removed 4146 rows and 941 columns\n",
      "Presolve time: 0.06s\n",
      "Presolved: 1886 rows, 565 columns, 6308 nonzeros\n",
      "Variable types: 0 continuous, 565 integer (565 binary)\n",
      "\n",
      "Root relaxation: objective 3.664965e+07, 941 iterations, 0.08 seconds\n",
      "\n",
      "    Nodes    |    Current Node    |     Objective Bounds      |     Work\n",
      " Expl Unexpl |  Obj  Depth IntInf | Incumbent    BestBd   Gap | It/Node Time\n",
      "\n",
      "     0     0 3.6650e+07    0  377   -0.00000 3.6650e+07      -     -    0s\n",
      "H    0     0                    1.143869e+07 3.6650e+07   220%     -    0s\n",
      "     0     0 2.9095e+07    0  370 1.1439e+07 2.9095e+07   154%     -    0s\n",
      "H    0     0                    1.787421e+07 2.9095e+07  62.8%     -    0s\n",
      "H    0     0                    1.940934e+07 2.9095e+07  49.9%     -    0s\n",
      "     0     0 2.9040e+07    0  356 1.9409e+07 2.9040e+07  49.6%     -    0s\n",
      "     0     0 2.9023e+07    0  358 1.9409e+07 2.9023e+07  49.5%     -    0s\n",
      "     0     0 2.9022e+07    0  357 1.9409e+07 2.9022e+07  49.5%     -    0s\n",
      "     0     0 2.6902e+07    0  418 1.9409e+07 2.6902e+07  38.6%     -    0s\n",
      "     0     0 2.6794e+07    0  413 1.9409e+07 2.6794e+07  38.0%     -    0s\n",
      "     0     0 2.6789e+07    0  423 1.9409e+07 2.6789e+07  38.0%     -    0s\n",
      "     0     0 2.6787e+07    0  422 1.9409e+07 2.6787e+07  38.0%     -    0s\n",
      "     0     0 2.5621e+07    0  192 1.9409e+07 2.5621e+07  32.0%     -    1s\n",
      "H    0     0                    2.270561e+07 2.5621e+07  12.8%     -    1s\n",
      "     0     0 2.5520e+07    0  202 2.2706e+07 2.5520e+07  12.4%     -    1s\n",
      "     0     0 2.5513e+07    0  201 2.2706e+07 2.5513e+07  12.4%     -    1s\n",
      "     0     0 2.5513e+07    0  196 2.2706e+07 2.5513e+07  12.4%     -    1s\n",
      "     0     0 2.5029e+07    0  169 2.2706e+07 2.5029e+07  10.2%     -    1s\n",
      "     0     0 2.4991e+07    0  174 2.2706e+07 2.4991e+07  10.1%     -    1s\n",
      "     0     0 2.4969e+07    0  171 2.2706e+07 2.4969e+07  10.0%     -    1s\n",
      "     0     0 2.4969e+07    0  171 2.2706e+07 2.4969e+07  10.0%     -    1s\n",
      "H    0     0                    2.296693e+07 2.4969e+07  8.72%     -    1s\n",
      "H    0     0                    2.310927e+07 2.4969e+07  8.05%     -    1s\n",
      "     0     2 2.4969e+07    0  171 2.3109e+07 2.4969e+07  8.05%     -    2s\n",
      "H  147   114                    2.310927e+07 2.4898e+07  7.74%  57.7    2s\n",
      "H  339   199                    2.310927e+07 2.4833e+07  7.46%  46.8    3s\n",
      "H  548   286                    2.311249e+07 2.4784e+07  7.23%  46.0    4s\n",
      "   652   340 2.4299e+07   13   59 2.3112e+07 2.4773e+07  7.18%  45.7    5s\n",
      "H  917   463                    2.311678e+07 2.4749e+07  7.06%  48.6    7s\n",
      "H 1006   486                    2.311678e+07 2.4744e+07  7.04%  48.1    7s\n",
      "H 1368   641                    2.311678e+07 2.4714e+07  6.91%  48.9    9s\n",
      "H 1391   641                    2.311749e+07 2.4712e+07  6.90%  48.9    9s\n",
      "  1421   666 2.3832e+07   16  199 2.3117e+07 2.4709e+07  6.88%  49.1   10s\n",
      "H 1496   638                    2.311749e+07 2.4709e+07  6.88%  48.9   14s\n",
      "  1498   643 2.4709e+07   16  174 2.3117e+07 2.4709e+07  6.88%  50.1   15s\n",
      "  1666   687 2.4290e+07   23   87 2.3117e+07 2.4709e+07  6.88%  50.5   20s\n",
      "H 1973   627                    2.311749e+07 2.4452e+07  5.77%  49.4   21s\n",
      "  2319   611     cutoff   26      2.3117e+07 2.4359e+07  5.37%  49.4   25s\n",
      "H 3590   437                    2.311749e+07 2.4202e+07  4.69%  48.9   29s\n",
      "  3657   443 2.3355e+07   26   38 2.3117e+07 2.4192e+07  4.65%  49.0   30s\n",
      "H 4115   461                    2.311749e+07 2.4155e+07  4.49%  49.8   31s\n",
      "  5148   449     cutoff   29      2.3117e+07 2.4081e+07  4.17%  49.3   35s\n",
      "  6961   278 2.3283e+07   28  128 2.3117e+07 2.3884e+07  3.32%  47.8   40s\n",
      "H 7304   248                    2.311749e+07 2.3790e+07  2.91%  47.5   41s\n",
      "H 7356   126                    2.311749e+07 2.3760e+07  2.78%  47.4   42s\n",
      "\n",
      "Cutting planes:\n",
      "  Gomory: 30\n",
      "  Cover: 33\n",
      "  Implied bound: 76\n",
      "  MIR: 48\n",
      "  StrongCG: 1\n",
      "  Flow cover: 12\n",
      "  Zero half: 31\n",
      "  RLT: 52\n",
      "\n",
      "Explored 7973 nodes (372977 simplex iterations) in 42.85 seconds\n",
      "Thread count was 4 (of 4 available processors)\n",
      "\n",
      "Solution count 10: 2.31175e+07 2.31175e+07 2.31175e+07 ... 2.31093e+07\n",
      "\n",
      "Optimal solution found (tolerance 1.00e-04)\n",
      "Best objective 2.311749220690e+07, best bound 2.311749220690e+07, gap 0.0000%\n"
     ]
    }
   ],
   "source": [
    "model.optimize()"
   ]
  },
  {
   "cell_type": "markdown",
   "metadata": {},
   "source": [
    "O algoritmo abaixo retorna quais blocos devem ser extraídos por ano de acordo com o otimizador."
   ]
  },
  {
   "cell_type": "code",
   "execution_count": 30,
   "metadata": {},
   "outputs": [
    {
     "name": "stdout",
     "output_type": "stream",
     "text": [
      "3\n",
      "16  25  27  34  38  43  49  52  126  135  137  144  148  153  236  245  247  254  256  346  355  \n",
      "\n",
      "2\n",
      "53  58  59  63  65  67  68  74  75  76  77  86  154  155  157  158  164  165  166  167  175  176  255  257  265  266  \n",
      "\n",
      "1\n",
      "26  35  36  37  44  45  46  47  48  54  55  56  57  64  66  85  136  145  146  147  156  246  \n",
      "\n"
     ]
    }
   ],
   "source": [
    "blocos_extraídos_ano1 = []\n",
    "blocos_extraídos_ano2 = []\n",
    "blocos_extraídos_ano3 = []\n",
    "for year in years:\n",
    "    print(year)\n",
    "    for b in blocks:\n",
    "        if round(extract[b, year].X) == 1:\n",
    "            print(b, \" \", end=\"\")\n",
    "            if year == 1:\n",
    "                blocos_extraídos_ano1.append(b)\n",
    "            if year == 2:\n",
    "                blocos_extraídos_ano2.append(b)\n",
    "            if year == 3:\n",
    "                blocos_extraídos_ano3.append(b)\n",
    "    print(\"\\n\")\n",
    "    \n",
    "blocos_extraídos_ano2 = sorted(blocos_extraídos_ano1 + blocos_extraídos_ano2)\n",
    "blocos_extraídos_ano3 = sorted(blocos_extraídos_ano2 + blocos_extraídos_ano3)"
   ]
  },
  {
   "cell_type": "markdown",
   "metadata": {},
   "source": [
    "Visualização da região modelada após primeiro ano de lavra."
   ]
  },
  {
   "cell_type": "code",
   "execution_count": 31,
   "metadata": {},
   "outputs": [
    {
     "data": {
      "text/plain": [
       "<pyvista.plotting.plotting.Plotter at 0x188750e8c70>"
      ]
     },
     "execution_count": 31,
     "metadata": {},
     "output_type": "execute_result"
    }
   ],
   "source": [
    "blocos_removidos = []\n",
    "for bloco in blocos_extraídos_ano1:\n",
    "    del i[bloco - len(blocos_removidos) - 1]\n",
    "    del j[bloco - len(blocos_removidos) - 1]\n",
    "    del k[bloco - len(blocos_removidos) - 1]\n",
    "    del valores[bloco - len(blocos_removidos) - 1]\n",
    "    blocos_removidos.append(bloco)\n",
    "\n",
    "blockModelData = {\n",
    "    'x' : i,\n",
    "    'y' : j,\n",
    "    'z' : k,\n",
    "    'var' : valores\n",
    "}\n",
    "\n",
    "blockModel = pd.DataFrame(blockModelData)\n",
    "blockModel.plot3D(\n",
    "    xyz_cols=('x', 'y', 'z'),\n",
    "    dims=(1, 1, 1),  \n",
    "    col='var',\n",
    ")"
   ]
  },
  {
   "cell_type": "markdown",
   "metadata": {},
   "source": [
    "Visualização da região modelada após segundo ano de lavra."
   ]
  },
  {
   "cell_type": "code",
   "execution_count": 32,
   "metadata": {},
   "outputs": [
    {
     "data": {
      "text/plain": [
       "<pyvista.plotting.plotting.Plotter at 0x18870ebf370>"
      ]
     },
     "execution_count": 32,
     "metadata": {},
     "output_type": "execute_result"
    }
   ],
   "source": [
    "ID = list(df['ID'].values)\n",
    "i = list(df['IX'].values)\n",
    "j = list(df['IY'].values)\n",
    "k = list(df['IZ'].values)\n",
    "valores = list(df['Lucro/Prejuízo'].values)\n",
    "\n",
    "blocos_removidos = []\n",
    "for bloco in blocos_extraídos_ano2:\n",
    "    del i[bloco - len(blocos_removidos) - 1]\n",
    "    del j[bloco - len(blocos_removidos) - 1]\n",
    "    del k[bloco - len(blocos_removidos) - 1]\n",
    "    del valores[bloco - len(blocos_removidos) - 1]\n",
    "    blocos_removidos.append(bloco)\n",
    "\n",
    "blockModelData = {\n",
    "    'x' : i,\n",
    "    'y' : j,\n",
    "    'z' : k,\n",
    "    'var' : valores\n",
    "}\n",
    "\n",
    "blockModel = pd.DataFrame(blockModelData)\n",
    "blockModel.plot3D(\n",
    "    xyz_cols=('x', 'y', 'z'),\n",
    "    dims=(1, 1, 1),  \n",
    "    col='var',\n",
    ")"
   ]
  },
  {
   "cell_type": "markdown",
   "metadata": {},
   "source": [
    "Visualização da região modelada após terceiro ano de lavra."
   ]
  },
  {
   "cell_type": "code",
   "execution_count": 33,
   "metadata": {},
   "outputs": [
    {
     "data": {
      "text/plain": [
       "<pyvista.plotting.plotting.Plotter at 0x1887506e040>"
      ]
     },
     "execution_count": 33,
     "metadata": {},
     "output_type": "execute_result"
    }
   ],
   "source": [
    "ID = list(df['ID'].values)\n",
    "i = list(df['IX'].values)\n",
    "j = list(df['IY'].values)\n",
    "k = list(df['IZ'].values)\n",
    "valores = list(df['Lucro/Prejuízo'].values)\n",
    "\n",
    "blocos_removidos = []\n",
    "for bloco in blocos_extraídos_ano3:\n",
    "    del i[bloco - len(blocos_removidos) - 1]\n",
    "    del j[bloco - len(blocos_removidos) - 1]\n",
    "    del k[bloco - len(blocos_removidos) - 1]\n",
    "    del valores[bloco - len(blocos_removidos) - 1]\n",
    "    blocos_removidos.append(bloco)\n",
    "\n",
    "blockModelData = {\n",
    "    'x' : i,\n",
    "    'y' : j,\n",
    "    'z' : k,\n",
    "    'var' : valores\n",
    "}\n",
    "\n",
    "blockModel = pd.DataFrame(blockModelData)\n",
    "blockModel.plot3D(\n",
    "    xyz_cols=('x', 'y', 'z'),\n",
    "    dims=(1, 1, 1),  \n",
    "    col='var',\n",
    ")"
   ]
  }
 ],
 "metadata": {
  "kernelspec": {
   "display_name": "Python 3",
   "language": "python",
   "name": "python3"
  },
  "language_info": {
   "codemirror_mode": {
    "name": "ipython",
    "version": 3
   },
   "file_extension": ".py",
   "mimetype": "text/x-python",
   "name": "python",
   "nbconvert_exporter": "python",
   "pygments_lexer": "ipython3",
   "version": "3.8.6"
  }
 },
 "nbformat": 4,
 "nbformat_minor": 4
}
